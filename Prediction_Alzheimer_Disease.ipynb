{
 "cells": [
  {
   "cell_type": "code",
   "execution_count": null,
   "id": "9c46c24b",
   "metadata": {},
   "outputs": [],
   "source": [
    "import os\n",
    "import numpy as np\n",
    "import pandas as pd\n",
    "from keras.models import load_model\n",
    "from keras.preprocessing.image import load_img, img_to_array\n",
    "from sklearn import preprocessing\n",
    "\n",
    "# Function to calculate accuracy percentage\n",
    "def calculate_accuracy(predictions):\n",
    "    return np.max(predictions, axis=1) * 100\n",
    "\n",
    "folder = \"Samples\"\n",
    "\n",
    "photos = []\n",
    "for filename in os.listdir(folder):\n",
    "    photo = load_img(os.path.join(folder, filename), target_size=(176,208))\n",
    "    photo = img_to_array(photo, dtype='uint8')\n",
    "    photos.append(photo)\n",
    "\n",
    "X = np.asarray(photos, dtype='uint8')\n",
    "\n",
    "model = load_model(r\"Prediction_model.h5\")\n",
    "yhats2 = model.predict(X)\n",
    "\n",
    "max_predictions = (yhats2 == yhats2.max(axis=1, keepdims=1)).astype(int)\n",
    "\n",
    "labels = np.array(['NonDemented', 'VeryMildDemented','MildDemented', 'ModerateDemented' ])\n",
    "lb = preprocessing.LabelBinarizer()\n",
    "\n",
    "y_labels = lb.fit_transform(labels)\n",
    "y_prediction = lb.inverse_transform(max_predictions)\n",
    "\n",
    "accuracies = calculate_accuracy(yhats2)\n",
    "\n",
    "result = zip(y_prediction, accuracies)\n",
    "for prediction, accuracy in result:\n",
    "    print(f\"Predicted_AD is {prediction} with {accuracy:.2f}% confidence.\")\n",
    "\n",
    "DF = pd.DataFrame({'Predicted Disease': y_prediction, 'Confidence (%)': accuracies})\n",
    "DF.to_csv(r\"result.csv\", index=False)\n"
   ]
  }
 ],
 "metadata": {
  "kernelspec": {
   "display_name": "Python 3 (ipykernel)",
   "language": "python",
   "name": "python3"
  },
  "language_info": {
   "codemirror_mode": {
    "name": "ipython",
    "version": 3
   },
   "file_extension": ".py",
   "mimetype": "text/x-python",
   "name": "python",
   "nbconvert_exporter": "python",
   "pygments_lexer": "ipython3",
   "version": "3.11.5"
  }
 },
 "nbformat": 4,
 "nbformat_minor": 5
}
